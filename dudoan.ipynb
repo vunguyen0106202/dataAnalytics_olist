{
 "cells": [
  {
   "cell_type": "code",
   "execution_count": 20,
   "metadata": {},
   "outputs": [
    {
     "name": "stdout",
     "output_type": "stream",
     "text": [
      "Training score: 0.9473651925519065\n",
      "Test score: 0.9513544775011784\n"
     ]
    }
   ],
   "source": [
    "\n",
    "import numpy as np\n",
    "from sklearn.neighbors import KNeighborsClassifier \n",
    "from sklearn.model_selection import train_test_split \n",
    "from sklearn.metrics import confusion_matrix\n",
    "from sklearn.metrics import precision_score, recall_score, f1_score, accuracy_score\n",
    "import matplotlib.pyplot as plt\n",
    "import pandas as pd\n",
    "from sklearn.metrics import r2_score\n",
    "df3=pd.read_csv(\"dataset/combined.csv\",usecols=['product_category_name_english','price'])\n",
    "df4 = pd.get_dummies(df3)\n",
    "X = df4.drop('price',axis=1)\n",
    "y= df4['price']\n",
    "from sklearn.model_selection import train_test_split\n",
    "X_train, X_test, y_train, y_test = train_test_split(X, y, test_size = 0.25,random_state=0)\n",
    "from sklearn.linear_model import LinearRegression\n",
    "from sklearn.metrics import mean_squared_log_error\n",
    "\n",
    "lreg = LinearRegression()\n",
    "lreg.fit(X_train, y_train)\n",
    "pred_train = lreg.predict(X_train)\n",
    "train_score = np.sqrt(mean_squared_log_error(y_train,pred_train))\n",
    "pred_test = lreg.predict(X_test)\n",
    "test_score = np.sqrt(mean_squared_log_error(y_test,pred_test))\n",
    "print('Training score:', train_score)\n",
    "print('Test score:', test_score)"
   ]
  },
  {
   "cell_type": "code",
   "execution_count": 21,
   "metadata": {},
   "outputs": [
    {
     "name": "stdout",
     "output_type": "stream",
     "text": [
      "\n",
      "Kết quả dự đoán và giá thực tế cho tập huấn luyện:\n",
      "        Giá thực tế (Huấn luyện)  Dự đoán giá (Huấn luyện)\n",
      "106668                    110.32                130.833221\n",
      "63486                     899.00                205.792175\n",
      "63397                     103.00                116.592773\n",
      "95376                      89.99                136.908295\n",
      "26599                     165.50                115.950653\n",
      "\n",
      "Kết quả dự đoán và giá thực tế cho tập kiểm tra:\n",
      "       Giá thực tế (Kiểm tra)  Dự đoán giá (Kiểm tra)\n",
      "70687                  109.90              113.620697\n",
      "98955                   45.95               92.821320\n",
      "38238                   39.20               91.370605\n",
      "8807                   349.00              115.950653\n",
      "35906                   69.00              151.442078\n"
     ]
    }
   ],
   "source": [
    "train_results = pd.DataFrame({'Giá thực tế (Huấn luyện)': y_train, 'Dự đoán giá (Huấn luyện)': pred_train})\n",
    "test_results = pd.DataFrame({'Giá thực tế (Kiểm tra)': y_test, 'Dự đoán giá (Kiểm tra)': pred_test})\n",
    "\n",
    "# In kết quả\n",
    "print(\"\\nKết quả dự đoán và giá thực tế cho tập huấn luyện:\")\n",
    "print(train_results.head())\n",
    "\n",
    "print(\"\\nKết quả dự đoán và giá thực tế cho tập kiểm tra:\")\n",
    "print(test_results.head())\n"
   ]
  },
  {
   "cell_type": "markdown",
   "metadata": {},
   "source": [
    "* dự đoán về giá sản phẩm"
   ]
  },
  {
   "cell_type": "code",
   "execution_count": 22,
   "metadata": {},
   "outputs": [
    {
     "name": "stdout",
     "output_type": "stream",
     "text": [
      "       Actual  Predicted\n",
      "0   delivered  delivered\n",
      "1   delivered  delivered\n",
      "2   delivered  delivered\n",
      "3   delivered  delivered\n",
      "4   delivered  delivered\n",
      "5   delivered  delivered\n",
      "6   delivered  delivered\n",
      "7   delivered  delivered\n",
      "8   delivered  delivered\n",
      "9   delivered  delivered\n",
      "10  delivered  delivered\n",
      "11  delivered  delivered\n",
      "12  delivered  delivered\n",
      "13  delivered  delivered\n",
      "14  delivered  delivered\n",
      "15  delivered  delivered\n",
      "16  delivered  delivered\n",
      "17  delivered  delivered\n",
      "18  delivered  delivered\n",
      "19  delivered  delivered\n",
      "[[    1     0     0     0     0     0     0]\n",
      " [    1    38   110     2     2     1     0]\n",
      " [    1    36 33842    13    23    63     1]\n",
      " [    1     1    93    14     2     2     0]\n",
      " [    0     0    66     1    25     3     0]\n",
      " [    0     3   289     3     3    39     0]\n",
      " [    0     0     4     0     0     0     0]]\n",
      "              precision    recall  f1-score   support\n",
      "\n",
      "           0       0.25      1.00      0.40         1\n",
      "           1       0.49      0.25      0.33       154\n",
      "           2       0.98      1.00      0.99     33979\n",
      "           3       0.42      0.12      0.19       113\n",
      "           4       0.45      0.26      0.33        95\n",
      "           5       0.36      0.12      0.18       337\n",
      "           6       0.00      0.00      0.00         4\n",
      "\n",
      "    accuracy                           0.98     34683\n",
      "   macro avg       0.42      0.39      0.35     34683\n",
      "weighted avg       0.97      0.98      0.97     34683\n",
      "\n"
     ]
    }
   ],
   "source": [
    "from sklearn.model_selection import train_test_split\n",
    "from sklearn.preprocessing import StandardScaler, LabelEncoder\n",
    "from sklearn.ensemble import RandomForestClassifier\n",
    "from sklearn.metrics import classification_report, confusion_matrix\n",
    "import pandas as pd\n",
    "df=pd.read_csv('data.csv')\n",
    "df['price'] = pd.to_numeric(df['price'], errors='coerce')\n",
    "df['freight_value'] = pd.to_numeric(df['freight_value'], errors='coerce')\n",
    "df['sale'] = df['price'] + df['freight_value']\n",
    "features = ['price', 'freight_value', 'review_score']\n",
    "target = 'order_status'\n",
    "\n",
    "# Chọn các cột có mặt số\n",
    "X =df[features]\n",
    "y = df[target]\n",
    "\n",
    "# Chuyển đổi các cột mục tiêu thành số\n",
    "label_encoder = LabelEncoder()\n",
    "y = label_encoder.fit_transform(y)\n",
    "\n",
    "# Chia dữ liệu thành tập huấn luyện và tập kiểm tra\n",
    "X_train, X_test, y_train, y_test = train_test_split(X, y, test_size=0.3, random_state=42)\n",
    "\n",
    "# Tiền xử lý dữ liệu (chuẩn hóa)\n",
    "scaler = StandardScaler()\n",
    "X_train = scaler.fit_transform(X_train)\n",
    "X_test = scaler.transform(X_test)\n",
    "# Khởi tạo mô hình\n",
    "model = RandomForestClassifier(n_estimators=100, random_state=42)\n",
    "\n",
    "# Huấn luyện mô hình\n",
    "model.fit(X_train, y_train)\n",
    "\n",
    "# Dự đoán trên tập kiểm tra\n",
    "y_pred = model.predict(X_test)\n",
    "\n",
    "\n",
    "# Chuyển đổi dự đoán về dạng văn bản (nếu cần)\n",
    "y_pred_labels = label_encoder.inverse_transform(y_pred)\n",
    "\n",
    "# Tạo DataFrame chứa các dự đoán\n",
    "results = pd.DataFrame({\n",
    "    'Actual': label_encoder.inverse_transform(y_test),\n",
    "    'Predicted': y_pred_labels\n",
    "})\n",
    "\n",
    "# Hiển thị 20 dự đoán đầu tiên\n",
    "print(results.head(20))\n",
    "# Đánh giá mô hình\n",
    "print(confusion_matrix(y_test, y_pred))\n",
    "print(classification_report(y_test, y_pred))"
   ]
  },
  {
   "cell_type": "markdown",
   "metadata": {},
   "source": [
    "* dự đoán về tình trạng đơn hàng"
   ]
  },
  {
   "cell_type": "code",
   "execution_count": 23,
   "metadata": {},
   "outputs": [
    {
     "name": "stdout",
     "output_type": "stream",
     "text": [
      "Mean Squared Error: 1.8981249242945029\n",
      "Coefficients: [ 9.54689092e-05 -3.71440145e-03 -7.73834616e-04 -1.22963935e-03]\n",
      "Intercept: 4.1232466037065905\n"
     ]
    }
   ],
   "source": [
    "import pandas as pd\n",
    "from sklearn.model_selection import train_test_split\n",
    "from sklearn.linear_model import LinearRegression\n",
    "from sklearn.metrics import mean_squared_error\n",
    "df=pd.read_csv('data.csv')\n",
    "\n",
    "df = df[['price', 'freight_value', 'review_score', 'product_category_name', 'payment_type']]\n",
    "df['product_category_name'] = df['product_category_name'].astype('category').cat.codes\n",
    "df['payment_type'] = df['payment_type'].astype('category').cat.codes\n",
    "X = df.drop('review_score', axis=1)\n",
    "y = df['review_score']\n",
    "X_train, X_test, y_train, y_test = train_test_split(X, y, test_size=0.2, random_state=42)\n",
    "# Khởi tạo và huấn luyện mô hình hồi quy tuyến tính\n",
    "model = LinearRegression()\n",
    "model.fit(X_train, y_train)\n",
    "\n",
    "# Dự đoán trên dữ liệu kiểm tra\n",
    "y_pred = model.predict(X_test)\n",
    "# đánh giá mô hình \n",
    "mse = mean_squared_error(y_test, y_pred)\n",
    "print(f'Mean Squared Error: {mse}')\n",
    "\n",
    "# Hiển thị hệ số hồi quy và giao cắt\n",
    "print(f'Coefficients: {model.coef_}')\n",
    "print(f'Intercept: {model.intercept_}')\n"
   ]
  },
  {
   "cell_type": "code",
   "execution_count": 24,
   "metadata": {},
   "outputs": [
    {
     "name": "stdout",
     "output_type": "stream",
     "text": [
      "Predicted Review Score: 4.08964639530173\n"
     ]
    }
   ],
   "source": [
    "#dự đoán cho đơn hành mới \n",
    "# Ví dụ dữ liệu mới để dự đoán\n",
    "new_data = pd.DataFrame({\n",
    "    'price': [50.0],\n",
    "    'freight_value': [10.0],\n",
    "    'product_category_name': [0],  # mã hóa danh mục sản phẩm\n",
    "    'payment_type': [1]             # mã hóa loại thanh toán\n",
    "})\n",
    "\n",
    "# Dự đoán điểm đánh giá\n",
    "new_predictions = model.predict(new_data)\n",
    "print(f'Predicted Review Score: {new_predictions[0]}')"
   ]
  },
  {
   "cell_type": "markdown",
   "metadata": {},
   "source": [
    "* dự đoán đánh giá của đơn hàng"
   ]
  },
  {
   "cell_type": "code",
   "execution_count": 25,
   "metadata": {},
   "outputs": [
    {
     "name": "stdout",
     "output_type": "stream",
     "text": [
      "    order_date order_date_dmy  total_revenue\n",
      "0   2016-09-04     04/09/2016      2308.4263\n",
      "1   2016-09-05     05/09/2016       925.8200\n",
      "2   2016-10-02     02/10/2016       934.0000\n",
      "3   2016-10-03     03/10/2016      8338.5680\n",
      "4   2016-10-04     04/10/2016    258034.0830\n",
      "5   2016-10-05     05/10/2016    318597.3280\n",
      "6   2016-10-06     06/10/2016    295011.0511\n",
      "7   2016-10-07     07/10/2016    151240.2484\n",
      "8   2016-10-08     08/10/2016    243594.5841\n",
      "9   2016-10-09     09/10/2016    100985.1789\n",
      "10  2016-10-10     10/10/2016     89981.8491\n",
      "11  2016-12-23     23/12/2016        95.0480\n",
      "12  2017-01-05     05/01/2017      4957.2050\n",
      "13  2017-01-06     06/01/2017    101860.9235\n",
      "14  2017-01-07     07/01/2017     29266.1270\n",
      "15  2017-01-08     08/01/2017     12220.5091\n",
      "16  2017-01-09     09/01/2017     12624.9764\n",
      "17  2017-01-10     10/01/2017     37591.4163\n",
      "18  2017-01-11     11/01/2017     82776.9503\n",
      "19  2017-01-12     12/01/2017     48332.7629\n"
     ]
    }
   ],
   "source": [
    "import pandas as pd\n",
    "\n",
    "# Đọc dữ liệu từ file CSV\n",
    "df = pd.read_csv('data.csv')\n",
    "\n",
    "# Chuyển đổi cột ngày tháng thành định dạng datetime\n",
    "df['order_purchase_timestamp'] = pd.to_datetime(df['order_purchase_timestamp'])\n",
    "df['order_purchase_date_dmy'] = df['order_purchase_timestamp'].dt.strftime('%d/%m/%Y')\n",
    "df['total_revenue'] = df['price'] * df['freight_value']\n",
    "df['order_date'] = df['order_purchase_timestamp'].dt.date\n",
    "\n",
    "# Nhóm theo ngày và tính tổng doanh thu\n",
    "daily_revenue = df.groupby('order_date')['total_revenue'].sum().reset_index()\n",
    "\n",
    "# Chuyển đổi ngày thành định dạng 'd/m/y'\n",
    "daily_revenue['order_date_dmy'] = daily_revenue['order_date'].apply(lambda x: x.strftime('%d/%m/%Y'))\n",
    "daily_revenue = daily_revenue.sort_values(by='order_date')\n",
    "# Xem kết quả\n",
    "print(daily_revenue[['order_date', 'order_date_dmy', 'total_revenue']].head(20))"
   ]
  },
  {
   "cell_type": "code",
   "execution_count": 26,
   "metadata": {},
   "outputs": [
    {
     "name": "stdout",
     "output_type": "stream",
     "text": [
      "0.4173429392446534\n"
     ]
    }
   ],
   "source": [
    "from sklearn.model_selection import train_test_split\n",
    "from sklearn.linear_model import LinearRegression\n",
    "from sklearn.metrics import mean_squared_error\n",
    "daily_revenue['order_date_dmy'] = pd.to_datetime(daily_revenue['order_date'])\n",
    "daily_revenue['date_num'] = (daily_revenue['order_date_dmy'] - daily_revenue['order_date_dmy'].min()).dt.days\n",
    "\n",
    "# Tách dữ liệu thành dữ liệu huấn luyện và kiểm tra\n",
    "X = daily_revenue[['date_num']]\n",
    "y = daily_revenue['total_revenue']\n",
    "X_train, X_test, y_train, y_test = train_test_split(X, y, test_size=0.2, random_state=42)\n",
    "# Khởi tạo và huấn luyện mô hình hồi quy tuyến tính\n",
    "model = LinearRegression()\n",
    "model.fit(X_train, y_train)\n",
    "\n",
    "# Dự đoán trên dữ liệu kiểm tra\n",
    "y_pred = model.predict(X_test)\n",
    "\n",
    "# Đánh giá mô hình\n",
    "mse = mean_squared_error(y_test, y_pred)\n",
    "r2 = r2_score(y_test, y_pred)\n",
    "print(r2)"
   ]
  },
  {
   "cell_type": "code",
   "execution_count": 28,
   "metadata": {},
   "outputs": [
    {
     "name": "stdout",
     "output_type": "stream",
     "text": [
      "  order_date_dmy  predicted_revenue\n",
      "0     2018-09-04       1.176263e+06\n",
      "1     2018-09-04       1.176263e+06\n"
     ]
    }
   ],
   "source": [
    "import datetime\n",
    "new_dates = pd.DataFrame({\n",
    "    'order_date_dmy': [datetime.date(2018, 9, 4), datetime.date(2018, 9, 4)]\n",
    "})\n",
    "new_dates['order_date_dmy'] = pd.to_datetime(new_dates['order_date_dmy'])\n",
    "new_dates['date_num'] = (new_dates['order_date_dmy'] - daily_revenue['order_date_dmy'].min()).dt.days\n",
    "\n",
    "# Dự đoán doanh thu\n",
    "new_revenues = model.predict(new_dates[['date_num']])\n",
    "new_dates['predicted_revenue'] = new_revenues\n",
    "print(new_dates[['order_date_dmy', 'predicted_revenue']])"
   ]
  },
  {
   "cell_type": "markdown",
   "metadata": {},
   "source": [
    "* dự đoán doanh thu"
   ]
  },
  {
   "cell_type": "code",
   "execution_count": 29,
   "metadata": {},
   "outputs": [
    {
     "name": "stdout",
     "output_type": "stream",
     "text": [
      "<class 'pandas.core.frame.DataFrame'>\n",
      "RangeIndex: 99224 entries, 0 to 99223\n",
      "Data columns (total 7 columns):\n",
      " #   Column                   Non-Null Count  Dtype \n",
      "---  ------                   --------------  ----- \n",
      " 0   review_id                99224 non-null  object\n",
      " 1   order_id                 99224 non-null  object\n",
      " 2   review_score             99224 non-null  int64 \n",
      " 3   review_comment_title     11568 non-null  object\n",
      " 4   review_comment_message   40977 non-null  object\n",
      " 5   review_creation_date     99224 non-null  object\n",
      " 6   review_answer_timestamp  99224 non-null  object\n",
      "dtypes: int64(1), object(6)\n",
      "memory usage: 5.3+ MB\n"
     ]
    }
   ],
   "source": [
    "import pandas as pd\n",
    "df=pd.read_csv('dataset/olist_order_reviews_dataset.csv')\n",
    "df.info()"
   ]
  }
 ],
 "metadata": {
  "kernelspec": {
   "display_name": "venv",
   "language": "python",
   "name": "python3"
  },
  "language_info": {
   "codemirror_mode": {
    "name": "ipython",
    "version": 3
   },
   "file_extension": ".py",
   "mimetype": "text/x-python",
   "name": "python",
   "nbconvert_exporter": "python",
   "pygments_lexer": "ipython3",
   "version": "3.12.4"
  }
 },
 "nbformat": 4,
 "nbformat_minor": 2
}
