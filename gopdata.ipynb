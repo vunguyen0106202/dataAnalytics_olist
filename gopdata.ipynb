{
 "cells": [
  {
   "cell_type": "code",
   "execution_count": 16,
   "metadata": {},
   "outputs": [],
   "source": [
    "import pandas as pd"
   ]
  },
  {
   "cell_type": "code",
   "execution_count": 17,
   "metadata": {},
   "outputs": [],
   "source": [
    "product_name=pd.read_csv(\"dataset/product_category_name_translation.csv\")\n",
    "item=pd.read_csv(\"dataset/olist_order_items_dataset.csv\")\n",
    "product=pd.read_csv(\"dataset/olist_products_dataset.csv\")\n",
    "order=pd.read_csv(\"dataset/olist_orders_dataset.csv\")\n",
    "review=pd.read_csv(\"dataset/olist_order_reviews_dataset.csv\")\n",
    "payment=pd.read_csv(\"dataset/olist_order_payments_dataset.csv\")\n",
    "customer=pd.read_csv(\"dataset/olist_customers_dataset.csv\")\n",
    "seller=pd.read_csv(\"dataset/olist_sellers_dataset.csv\")"
   ]
  },
  {
   "cell_type": "code",
   "execution_count": 18,
   "metadata": {},
   "outputs": [],
   "source": [
    "df=pd.merge(item,product,on='product_id')\n",
    "df=pd.merge(df,order,how='inner',on='order_id')\n",
    "df=pd.merge(df,review,how='inner', on='order_id')\n",
    "df=pd.merge(df,payment,how='inner',on='order_id')\n",
    "df=pd.merge(df,customer,how='inner',on='customer_id')\n",
    "df=pd.merge(df,seller,how='inner',on='seller_id')\n",
    "df=pd.merge(df,product_name,how='inner',on='product_category_name')"
   ]
  },
  {
   "cell_type": "code",
   "execution_count": 19,
   "metadata": {},
   "outputs": [
    {
     "data": {
      "text/plain": [
       "review_comment_title             101808\n",
       "review_comment_message            66703\n",
       "order_delivered_customer_date      2400\n",
       "order_delivered_carrier_date       1195\n",
       "order_approved_at                    14\n",
       "product_height_cm                     1\n",
       "product_length_cm                     1\n",
       "product_width_cm                      1\n",
       "product_weight_g                      1\n",
       "payment_value                         0\n",
       "payment_installments                  0\n",
       "review_score                          0\n",
       "customer_unique_id                    0\n",
       "seller_zip_code_prefix                0\n",
       "customer_zip_code_prefix              0\n",
       "payment_type                          0\n",
       "payment_sequential                    0\n",
       "review_answer_timestamp               0\n",
       "customer_city                         0\n",
       "customer_state                        0\n",
       "review_creation_date                  0\n",
       "seller_state                          0\n",
       "seller_city                           0\n",
       "order_id                              0\n",
       "review_id                             0\n",
       "order_estimated_delivery_date         0\n",
       "order_item_id                         0\n",
       "order_purchase_timestamp              0\n",
       "order_status                          0\n",
       "customer_id                           0\n",
       "product_photos_qty                    0\n",
       "product_description_lenght            0\n",
       "product_name_lenght                   0\n",
       "product_category_name                 0\n",
       "freight_value                         0\n",
       "price                                 0\n",
       "shipping_limit_date                   0\n",
       "seller_id                             0\n",
       "product_id                            0\n",
       "product_category_name_english         0\n",
       "dtype: int64"
      ]
     },
     "execution_count": 19,
     "metadata": {},
     "output_type": "execute_result"
    }
   ],
   "source": [
    "df.isnull().sum().sort_values(ascending=False)"
   ]
  },
  {
   "cell_type": "code",
   "execution_count": 20,
   "metadata": {},
   "outputs": [],
   "source": [
    "df_cleaned = df.dropna(axis=1, how='any')"
   ]
  },
  {
   "cell_type": "code",
   "execution_count": 21,
   "metadata": {},
   "outputs": [
    {
     "data": {
      "text/plain": [
       "Index(['order_id', 'order_item_id', 'product_id', 'seller_id',\n",
       "       'shipping_limit_date', 'price', 'freight_value',\n",
       "       'product_category_name', 'product_name_lenght',\n",
       "       'product_description_lenght', 'product_photos_qty', 'product_weight_g',\n",
       "       'product_length_cm', 'product_height_cm', 'product_width_cm',\n",
       "       'customer_id', 'order_status', 'order_purchase_timestamp',\n",
       "       'order_approved_at', 'order_delivered_carrier_date',\n",
       "       'order_delivered_customer_date', 'order_estimated_delivery_date',\n",
       "       'review_id', 'review_score', 'review_comment_title',\n",
       "       'review_comment_message', 'review_creation_date',\n",
       "       'review_answer_timestamp', 'payment_sequential', 'payment_type',\n",
       "       'payment_installments', 'payment_value', 'customer_unique_id',\n",
       "       'customer_zip_code_prefix', 'customer_city', 'customer_state',\n",
       "       'seller_zip_code_prefix', 'seller_city', 'seller_state',\n",
       "       'product_category_name_english'],\n",
       "      dtype='object')"
      ]
     },
     "execution_count": 21,
     "metadata": {},
     "output_type": "execute_result"
    }
   ],
   "source": [
    "df.columns"
   ]
  },
  {
   "cell_type": "code",
   "execution_count": 22,
   "metadata": {},
   "outputs": [],
   "source": [
    "df.drop(columns=['product_name_lenght','product_description_lenght', 'product_photos_qty', 'product_weight_g',\n",
    "       'product_length_cm', 'product_height_cm', 'product_width_cm'], inplace=True)"
   ]
  },
  {
   "cell_type": "code",
   "execution_count": 23,
   "metadata": {},
   "outputs": [],
   "source": [
    "df.to_csv('data.csv', index=False)"
   ]
  }
 ],
 "metadata": {
  "kernelspec": {
   "display_name": "venv",
   "language": "python",
   "name": "python3"
  },
  "language_info": {
   "codemirror_mode": {
    "name": "ipython",
    "version": 3
   },
   "file_extension": ".py",
   "mimetype": "text/x-python",
   "name": "python",
   "nbconvert_exporter": "python",
   "pygments_lexer": "ipython3",
   "version": "3.12.4"
  }
 },
 "nbformat": 4,
 "nbformat_minor": 2
}
